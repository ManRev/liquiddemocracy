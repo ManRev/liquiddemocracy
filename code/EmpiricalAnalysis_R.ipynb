{
 "cells": [
  {
   "cell_type": "code",
   "execution_count": null,
   "metadata": {},
   "outputs": [],
   "source": [
    "library(tidyverse)\n",
    "library(reshape2)\n",
    "library(lme4)\n",
    "library(corrplot)\n",
    "library(jtools)\n",
    "library(dotwhisker)\n",
    "library(broom)\n",
    "library(knitr)\n",
    "library(ggfortify)\n",
    "library(nlme)\n",
    "library(simr)\n",
    "library(pscl)\n",
    "library(foreign) \n",
    "library(\"gdata\")\n",
    "library('ri2')\n",
    "library(lmerTest)\n",
    "library(binom)\n",
    "library(ggthemes)\n",
    "library(ggthemes)\n",
    "library(lfe)\n",
    "library(broom.mixed)\n",
    "library(lmtest)\n",
    "library(sandwich)\n",
    "library(multiwayvcov)"
   ]
  },
  {
   "cell_type": "markdown",
   "metadata": {},
   "source": [
    "# ANOVA Tukey Tests"
   ]
  },
  {
   "cell_type": "code",
   "execution_count": null,
   "metadata": {},
   "outputs": [],
   "source": [
    "data_anova <- read.csv(\"anova.csv\") \n",
    "\n",
    "qqnorm(data_anova$ProbaDel, main='Normality Test for Probability of Delegating')\n",
    "qqline(data_anova$ProbaDel)\n",
    "\n",
    "qqnorm(data_anova$Normalized_IRT, main='Normality Test for Expertise')\n",
    "qqline(data_anova$Normalized_IRT)\n",
    "\n",
    "\n",
    "aov.model <- aov(data = data_anova, ProbaDel ~ gender)\n",
    "summary(aov.model)\n",
    "plot(TukeyHSD(aov.model))\n",
    "\n",
    "aov.model <- aov(data = data_anova, Normalized_IRT ~ gender, na.action=na.exclude)\n",
    "summary(aov.model)\n",
    "plot(TukeyHSD(aov.model))"
   ]
  },
  {
   "cell_type": "markdown",
   "metadata": {},
   "source": [
    "# Estimating q"
   ]
  },
  {
   "cell_type": "code",
   "execution_count": null,
   "metadata": {},
   "outputs": [],
   "source": [
    "data_ <- read.csv(\"R_paper.csv\") \n",
    "\n",
    "model.d <- glm(ProbaDel ~ Normalized_IRT + unique_id + CodeExclu + gender, data=data_, family=binomial(logit))\n",
    "vcov_firm <- cluster.vcov(model.d, select(data_, unique_id))\n",
    "coeftest(model.d, vcov_firm)[1:2,]\n",
    "coeftest(model.d)[1:2,]\n",
    "\n",
    "model.d <- glm(ProbaDel ~ Normalized_IRT, data=data_, family=binomial(logit))\n",
    "vcov_firm <- cluster.vcov(model.d, select(data_, unique_id))\n",
    "coeftest(model.d, vcov_firm)[1:2,]\n",
    "coeftest(model.d)[1:2,]"
   ]
  },
  {
   "cell_type": "markdown",
   "metadata": {},
   "source": [
    "# Estimating $\\varphi$"
   ]
  },
  {
   "cell_type": "code",
   "execution_count": null,
   "metadata": {},
   "outputs": [],
   "source": [
    "data_phi <- read.csv(\"phi_w_gmm.csv\") \n",
    "\n",
    "data_phi <- data_phi[!data_phi$CodeExclu %in% c('S'), ]\n",
    "\n",
    "qqnorm(data_phi$Weight, main='Normality Test for Weights')\n",
    "qqline(data_phi$Weight)\n",
    "\n",
    "data_phi$CodeExclu <- factor(data_phi$CodeExclu)\n",
    "data_phi$ExpNum <- factor(data_phi$ExpNum)\n",
    "data_phi$ppi <- factor(data_phi$pi)\n",
    "\n",
    "data_phi$full_name <- paste(data_phi$CodeExclu, data_phi$ExpNum, sep = \"_\")\n",
    "\n",
    "fixed <- felm(Weight ~ pj| ExpNum + CodeExclu + ppi | 0 | full_name, data=data_phi)\n",
    "print(coeftest(fixed)[1:1,])\n",
    "\n",
    "fixed <- felm(Weight ~ pj:ppi| ExpNum + CodeExclu + ppi | 0 | full_name, data=data_phi)\n",
    "print(summary(fixed))\n",
    "\n",
    "fixed <- felm(Weight ~ pj:CodeExclu| ExpNum + CodeExclu + ppi | 0 | 0, data=data_phi)\n",
    "print(summary(fixed))"
   ]
  },
  {
   "cell_type": "markdown",
   "metadata": {},
   "source": [
    "# Estimating Difference"
   ]
  },
  {
   "cell_type": "code",
   "execution_count": null,
   "metadata": {},
   "outputs": [],
   "source": [
    "lvd <- read.csv(\"LDvDD.csv\") \n",
    "lvd <- lvd[!lvd$CodeExclu %in% c('S'), ]\n",
    "lvd$full_name <- paste(lvd$CodeExclu, lvd$ExpNum, sep = \"_\")\n",
    "\n",
    "lvd$CodeExcluF <- factor(lvd$CodeExclu)\n",
    "lvd$ExpNum <- factor(lvd$ExpNum)\n",
    "\n",
    "qqnorm(lvd$Estimate, main='Normality Tests for Direct and Liquid Votes')\n",
    "qqline(lvd$Estimate)\n",
    "\n",
    "summary(felm(data = lvd, Estimate ~ Cat | ExpNum + CodeQuestion + ExpNum:CodeExcluF + CodeExcluF| 0 |full_name))\n",
    "coeftest(felm(data = lvd, Estimate ~ Cat | ExpNum + CodeQuestion | 0 |full_name))\n",
    "summary(felm(data = lvd, Estimate ~ Cat:CodeExclu | ExpNum + CodeQuestion| 0 | full_name ))"
   ]
  },
  {
   "cell_type": "code",
   "execution_count": null,
   "metadata": {},
   "outputs": [],
   "source": [
    "lvd <- read.csv(\"LDvDD_means.csv\") \n",
    "lvd <- lvd[!lvd$CodeExclu %in% c('S'), ]\n",
    "lvd$full_name <- paste(lvd$CodeExclu, lvd$ExpNum, sep = \"_\")\n",
    "\n",
    "qqnorm(lvd$Estimate, main='Normality Tests for Direct and Liquid Average')\n",
    "qqline(lvd$Estimate)\n",
    "\n",
    "lvd$CodeExcluF <- factor(lvd$CodeExclu)\n",
    "lvd$ExpNum <- factor(lvd$ExpNum)\n",
    "\n",
    "summary(felm(data = lvd, Estimate ~ Cat | ExpNum + CodeExclu| 0 |full_name))\n",
    "summary(felm(data = lvd, Estimate ~ Cat:CodeExclu | ExpNum + CodeExclu| 0 |0))\n"
   ]
  }
 ],
 "metadata": {
  "kernelspec": {
   "display_name": "R",
   "language": "R",
   "name": "ir"
  }
 },
 "nbformat": 4,
 "nbformat_minor": 4
}
